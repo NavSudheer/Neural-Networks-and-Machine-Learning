{
  "nbformat": 4,
  "nbformat_minor": 0,
  "metadata": {
    "colab": {
      "name": "a2.ipynb",
      "provenance": [],
      "collapsed_sections": [
        "CF4BZdEQ80aE",
        "vnlZper_80aP",
        "OzGu88in80bV"
      ]
    },
    "kernelspec": {
      "name": "python3",
      "display_name": "Python 3"
    }
  },
  "cells": [
    {
      "cell_type": "markdown",
      "metadata": {
        "id": "t9UOCZLN80VJ",
        "colab_type": "text"
      },
      "source": [
        "# CSC321H5 Project 2.\n",
        "\n",
        "**Deadline**: Thursday, Feb. 13, by 9pm\n",
        "\n",
        "**Submission**: Submit a PDF export of the completed notebook. \n",
        "\n",
        "**Late Submission**: Please see the syllabus for the late submission criteria.\n",
        "\n",
        "Based on an assignment by George Dahl, Jing Yao Li, and Roger Grosse\n",
        "\n",
        "In this assignment, we will make a neural network that can predict the next word\n",
        "in a sentence given the previous three. \n",
        "We'll explore a couple of different models to perform this prediction task. We will also do this\n",
        "problem twice: once in PyTorch, and once using numpy. When using numpy, you'll implement\n",
        "the backpropagation computation.\n",
        "\n",
        "In doing this prediction task, our neural networks will learn about *words* and about\n",
        "how to represent words. We'll explore the *vector representations* of words that our\n",
        "model produces, and analyze these representations.\n",
        "\n",
        "You may modify the starter code as you see fit, including changing the signatures of\n",
        "functions and adding/removing helper functions. However, please make sure that your\n",
        "TA can understand what you are doing and why."
      ]
    },
    {
      "cell_type": "markdown",
      "metadata": {
        "id": "UQDHQEXul0gW",
        "colab_type": "text"
      },
      "source": [
        ""
      ]
    },
    {
      "cell_type": "code",
      "metadata": {
        "id": "x5SXRszm80VU",
        "colab_type": "code",
        "colab": {}
      },
      "source": [
        "import pandas\n",
        "import numpy as np\n",
        "import matplotlib.pyplot as plt\n",
        "\n",
        "import torch\n",
        "import torch.nn as nn\n",
        "import torch.optim as optim"
      ],
      "execution_count": 0,
      "outputs": []
    },
    {
      "cell_type": "markdown",
      "metadata": {
        "id": "1cE3KFNu80Vv",
        "colab_type": "text"
      },
      "source": [
        "## Question 1. Data\n",
        "\n",
        "With any machine learning problem, the first thing that we would want to do\n",
        "is to get an intuitive understanding of what our data looks like. Download the file\n",
        "`raw_sentences.txt` from `https://www.cs.toronto.edu/~lczhang/321/hw/raw_sentences.txt`\n",
        "and upload it to Google Drive.\n",
        "Then, mount Google Drive from your Google Colab notebook:"
      ]
    },
    {
      "cell_type": "code",
      "metadata": {
        "id": "L-Opd2Gm80V2",
        "colab_type": "code",
        "outputId": "7b2a8e25-f651-4e10-99d0-a9eb035452d3",
        "colab": {
          "base_uri": "https://localhost:8080/",
          "height": 34
        }
      },
      "source": [
        "from google.colab import drive\n",
        "drive.mount('/content/gdrive', force_remount=True)"
      ],
      "execution_count": 7,
      "outputs": [
        {
          "output_type": "stream",
          "text": [
            "Mounted at /content/gdrive\n"
          ],
          "name": "stdout"
        }
      ]
    },
    {
      "cell_type": "markdown",
      "metadata": {
        "id": "WuF3---T80WH",
        "colab_type": "text"
      },
      "source": [
        "Find the path to `raw_sentences.txt`:"
      ]
    },
    {
      "cell_type": "code",
      "metadata": {
        "id": "f8byqZsc80WM",
        "colab_type": "code",
        "colab": {}
      },
      "source": [
        "file_path = '/content/gdrive/My Drive/CSC321/raw_sentences.txt' # TODO - UPDATE ME!"
      ],
      "execution_count": 0,
      "outputs": []
    },
    {
      "cell_type": "markdown",
      "metadata": {
        "id": "pl0AzZEv80Wd",
        "colab_type": "text"
      },
      "source": [
        "You might find it helpful to know that you can run shell commands (like `ls`) by\n",
        "using `!` in Google Colab, like this:"
      ]
    },
    {
      "cell_type": "code",
      "metadata": {
        "id": "V9vyKXup80Wh",
        "colab_type": "code",
        "outputId": "6a4bf4f0-590e-4e46-808d-5fe2fd176fb8",
        "colab": {
          "base_uri": "https://localhost:8080/",
          "height": 1000
        }
      },
      "source": [
        "!ls /content/gdrive/My\\ Drive/\n",
        "!mkdir /content/gdrive/My\\ Drive/CSC321"
      ],
      "execution_count": 9,
      "outputs": [
        {
          "output_type": "stream",
          "text": [
            " 01FB15EEC133.pdf\n",
            " AIB.jpg\n",
            "'Appadurai Fear of Small Numbers.pdf'\n",
            "'Assignment 2 - Incremental Business Improvement     Navaneeth Sudheer.gdoc'\n",
            " CAS\n",
            " CEACAA006HTHJU.PDF\n",
            " Chem\n",
            "'Colab Notebooks'\n",
            " College\n",
            "'Copy of 207 Cheat Sheet.gdoc'\n",
            "'Copy of Pull Trending Cryptocurrencies (1).gsheet'\n",
            "'Copy of Pull Trending Cryptocurrencies (2).gsheet'\n",
            "'Copy of Pull Trending Cryptocurrencies (3).gsheet'\n",
            "'Copy of Pull Trending Cryptocurrencies.gsheet'\n",
            "'Copy of Raspberry_Pi_Projects.pdf'\n",
            " CSC321\n",
            " CSC338\n",
            " English\n",
            "'Excercise 20.gdoc'\n",
            "'Exercise 18.gdoc'\n",
            "'Exercise 19.gdoc'\n",
            " French\n",
            "'Google Photos'\n",
            "'Hackathon Hackers Club at UTM.gdoc'\n",
            " ITDeskApplication.gdoc\n",
            " Itinerary.pdf\n",
            "'LEF Diagram.xml'\n",
            " Letter.gdoc\n",
            "'LIN203 terms.gdoc'\n",
            " Math\n",
            " Media\n",
            " Navaneeth_Resume.gdoc\n",
            " Navaneeth_Resume.pdf\n",
            "'Navaneeth Sudheer_Cover Letter.gdoc'\n",
            "'Office of the Registrar at University of Toronto Mississauga.pdf'\n",
            "'PES syllabus'\n",
            "'Physics '\n",
            "'Physics T1'\n",
            " project.ipynb\n",
            " Reflections.docx\n",
            " Resume\n",
            "'Resume (1)'\n",
            "'Resume (1).gdoc'\n",
            "'Resume (2).gdoc'\n",
            "'Resume (3).gdoc'\n",
            "'Resume (4).gdoc'\n",
            "'Resume (5).gdoc'\n",
            "'Resume (6).gdoc'\n",
            "'Resume for internsg.gdoc'\n",
            " Resume.gdoc\n",
            " RPI\n",
            " show_letter.php.pdf\n",
            "'Sleep and Academic Performance  (Responses).gsheet'\n",
            "'Study Plan.gdoc'\n",
            "'The 2004 film Troy tells the tale of the tragic fall of the kingdom of Troy.docx'\n",
            "'The 2004 film Troy tells the tale of the tragic fall of the kingdom of Troy.docx.gdoc'\n",
            "'The_Yoga_Sutras_of_Patanjali__The_Book_of_the_Spiritual_Man_by_Patañjali (1).epub'\n",
            " The_Yoga_Sutras_of_Patanjali__The_Book_of_the_Spiritual_Man_by_Patañjali.epub\n",
            "'TOK essay .gdoc'\n",
            "'Unified Engineering.gdoc'\n",
            "'Untitled document (1).gdoc'\n",
            "'Untitled document (2).gdoc'\n",
            "'Untitled document (3).gdoc'\n",
            "'Untitled document (4).gdoc'\n",
            "'Untitled document (5).gdoc'\n",
            "'Untitled document.gdoc'\n",
            "'Untitled spreadsheet.gsheet'\n",
            " Visa\n",
            "'Windows Key.txt'\n",
            "'wri203-assignment 2b.gdoc'\n",
            "mkdir: cannot create directory ‘/content/gdrive/My Drive/CSC321’: File exists\n"
          ],
          "name": "stdout"
        }
      ]
    },
    {
      "cell_type": "markdown",
      "metadata": {
        "id": "W4krlbQO80Wx",
        "colab_type": "text"
      },
      "source": [
        "The following code reads the sentences in our file, split each sentence into\n",
        "its individual words, and stores the sentences (list of words) in the\n",
        "variable `sentences`."
      ]
    },
    {
      "cell_type": "code",
      "metadata": {
        "id": "W_-nln9o80W2",
        "colab_type": "code",
        "outputId": "49cc851c-4b77-48f6-88db-e5925933ebfb",
        "colab": {
          "base_uri": "https://localhost:8080/",
          "height": 34
        }
      },
      "source": [
        "sentences = []\n",
        "for line in open(file_path):\n",
        "    words = line.split()\n",
        "    sentence = [word.lower() for word in words]\n",
        "    sentences.append(sentence)\n",
        "print(sentences[0])"
      ],
      "execution_count": 10,
      "outputs": [
        {
          "output_type": "stream",
          "text": [
            "['no', ',', 'he', 'says', 'now', '.']\n"
          ],
          "name": "stdout"
        }
      ]
    },
    {
      "cell_type": "markdown",
      "metadata": {
        "id": "wzXUqlQe80XD",
        "colab_type": "text"
      },
      "source": [
        "There are 97,162 sentences in total, and \n",
        "these sentences are composed of 250 distinct words."
      ]
    },
    {
      "cell_type": "code",
      "metadata": {
        "id": "_CB47y7q80XG",
        "colab_type": "code",
        "outputId": "da785ad9-f71f-46b0-f2cd-cc4c44b0790d",
        "colab": {
          "base_uri": "https://localhost:8080/",
          "height": 51
        }
      },
      "source": [
        "vocab = set([w for s in sentences for w in s])\n",
        "print(len(sentences)) # 97162\n",
        "print(len(vocab)) # 250"
      ],
      "execution_count": 11,
      "outputs": [
        {
          "output_type": "stream",
          "text": [
            "97162\n",
            "250\n"
          ],
          "name": "stdout"
        }
      ]
    },
    {
      "cell_type": "markdown",
      "metadata": {
        "id": "tPg6OLda80XW",
        "colab_type": "text"
      },
      "source": [
        "We'll separate our data into training, validation, and test.\n",
        "We'll use `10,000 sentences for test, 10,000 for validation, and\n",
        "the rest for training."
      ]
    },
    {
      "cell_type": "code",
      "metadata": {
        "id": "NXGXWO0X80Xc",
        "colab_type": "code",
        "colab": {}
      },
      "source": [
        "test, valid, train = sentences[:10000], sentences[10000:20000], sentences[20000:]"
      ],
      "execution_count": 0,
      "outputs": []
    },
    {
      "cell_type": "markdown",
      "metadata": {
        "id": "scS9uBPz80Xo",
        "colab_type": "text"
      },
      "source": [
        "### Part (a) -- 2 pts\n",
        "\n",
        "Display 10 sentences in the training set.\n",
        "Explain how punctuations are treated in our word representation, and how words\n",
        "with apostrophes are represented."
      ]
    },
    {
      "cell_type": "code",
      "metadata": {
        "id": "m2Gn5iTZ80Xt",
        "colab_type": "code",
        "outputId": "5af86317-06b3-4830-fb8c-b8ab86868736",
        "colab": {
          "base_uri": "https://localhost:8080/",
          "height": 224
        }
      },
      "source": [
        "# Your code goes here\n",
        "for i in range(0,10):\n",
        "  print(train[i])\n",
        "\"\"\"\n",
        "Punctuations are treated as words themselves in our word representation.\n",
        "Words with apostrophes are represented by splitting up the previous word\n",
        "followed by its closing, for example: there's is split up to [there, 's]\n",
        "as to get an indication of how many words end with specific concatinations.\n",
        "\"\"\""
      ],
      "execution_count": 13,
      "outputs": [
        {
          "output_type": "stream",
          "text": [
            "['last', 'night', ',', 'he', 'said', ',', 'did', 'it', 'for', 'me', '.']\n",
            "['on', 'what', 'can', 'i', 'do', '?']\n",
            "['now', 'where', 'does', 'it', 'go', '?']\n",
            "['what', 'did', 'the', 'court', 'do', '?']\n",
            "['but', 'at', 'the', 'same', 'time', ',', 'we', 'have', 'a', 'long', 'way', 'to', 'go', '.']\n",
            "['that', 'was', 'the', 'only', 'way', '.']\n",
            "['this', 'team', 'will', 'be', 'back', '.']\n",
            "['so', 'that', 'is', 'what', 'i', 'do', '.']\n",
            "['we', 'have', 'a', 'right', 'to', 'know', '.']\n",
            "['now', 'they', 'are', 'three', '.']\n"
          ],
          "name": "stdout"
        },
        {
          "output_type": "execute_result",
          "data": {
            "text/plain": [
              "\"\\nPunctuations are treated as words themselves in our word representation.\\nWords with apostrophes are represented by splitting up the previous word\\nfollowed by its closing, for example: there's is split up to [there, 's]\\nas to get an indication of how many words end with specific concatinations.\\n\""
            ]
          },
          "metadata": {
            "tags": []
          },
          "execution_count": 13
        }
      ]
    },
    {
      "cell_type": "markdown",
      "metadata": {
        "id": "s_z3sgZc80X4",
        "colab_type": "text"
      },
      "source": [
        "### Part (b) -- 2 pts\n",
        "\n",
        "What are the 10 most common words in the vocabulary? How often does each of these\n",
        "words appear in the training sentences? Express the second quantity a percentage\n",
        "(i.e. number of occurences of the  word / total number of words in the training set).\n",
        "\n",
        "These are good quantities to compute, because one of the first things a machine learning\n",
        "model will learn is to predict the **most common** class. Getting a sense of the\n",
        "distribution of our data will help you understand our model's behaviour.\n",
        "\n",
        "You can use Python's `collections.Counter` class if you would like to."
      ]
    },
    {
      "cell_type": "code",
      "metadata": {
        "id": "_oP2suvY80X-",
        "colab_type": "code",
        "outputId": "f8daeb0a-2f61-4021-8546-2bea68cdd3d5",
        "colab": {
          "base_uri": "https://localhost:8080/",
          "height": 598
        }
      },
      "source": [
        "# Your code goes here\n",
        "from collections import Counter\n",
        "mc_lst = []\n",
        "\n",
        "#Calculate total number of words\n",
        "total_train_words=0\n",
        "for i in range(len(train)):\n",
        "  total_train_words += len(train[i])\n",
        "print(\"Total number of word in the training set: \" + str(total_train_words))\n",
        "\n",
        "#Build collections.Counter bag\n",
        "c = Counter()\n",
        "for i in range(len(sentences)):\n",
        "  c += Counter(sentences[i])\n",
        "\n",
        "#Build the 10 most common words in the vocabulary\n",
        "for mc in c.most_common(10):\n",
        "  print(mc)\n",
        "  print(mc[1])\n",
        "  mc_lst.append(mc[0])\n",
        "\n",
        "#Build collections bag for training set\n",
        "b = Counter()\n",
        "for i in range(len(train)):\n",
        "  b += Counter(train[i])\n",
        "print(b)\n",
        "\n",
        "#Print how often 10 most common words in the vocabulary appear in the training set\n",
        "for mc in mc_lst:\n",
        "  print(\"Word: \" + mc + \" has Rate:\" + str(round(b[mc]/total_train_words, 2))+\"%\")\n",
        "\n",
        "\n",
        "\"\"\"\n",
        "The top ten most common words in the vocabulary are:\n",
        "('.', 728766)\n",
        "('it', 262800)\n",
        "(',', 221247)\n",
        "('i', 200403)\n",
        "('do', 182206)\n",
        "('to', 175833)\n",
        "('nt', 148140)\n",
        "('?', 145891)\n",
        "('the', 143451)\n",
        "('that', 142155)\n",
        "\n",
        "How often do these words appear in the training set?\n",
        "Word: . has Rate:0.86%\n",
        "Word: it has Rate:0.31%\n",
        "Word: , has Rate:0.26%\n",
        "Word: i has Rate:0.24%\n",
        "Word: do has Rate:0.22%\n",
        "Word: to has Rate:0.21%\n",
        "Word: nt has Rate:0.17%\n",
        "Word: the has Rate:0.17%\n",
        "Word: 's has Rate:0.17%\n",
        "Word: that has Rate:0.17%\n",
        "\"\"\""
      ],
      "execution_count": 14,
      "outputs": [
        {
          "output_type": "stream",
          "text": [
            "Total number of word in the training set: 601147\n",
            "('.', 80974)\n",
            "80974\n",
            "('it', 29200)\n",
            "29200\n",
            "(',', 24583)\n",
            "24583\n",
            "('i', 22267)\n",
            "22267\n",
            "('do', 20245)\n",
            "20245\n",
            "('to', 19537)\n",
            "19537\n",
            "('nt', 16460)\n",
            "16460\n",
            "('?', 16210)\n",
            "16210\n",
            "('the', 15939)\n",
            "15939\n",
            "('that', 15795)\n",
            "15795\n",
            "Counter({'.': 64297, 'it': 23118, ',': 19537, 'i': 17684, 'do': 16181, 'to': 15490, 'nt': 13009, '?': 12881, 'the': 12583, \"'s\": 12552, 'that': 12535, 'he': 12192, 'you': 10166, 'we': 9928, 'is': 9781, 'what': 9059, 'they': 8496, 'said': 8470, 'not': 7829, 'but': 7591, 'and': 7326, 'know': 6935, 'was': 6783, 'did': 6669, 'are': 6521, 'have': 6474, 'this': 6380, 'there': 5717, 'a': 5588, 'be': 5238, 'all': 4737, 'want': 4704, 'of': 4699, 'she': 4196, 'for': 4127, 'just': 3943, 'think': 3942, 'in': 3686, 'can': 3640, 'going': 3624, 'like': 3590, 'go': 3557, 'now': 3534, 'time': 3532, 'one': 3421, 'so': 3285, 'how': 3284, 'get': 3234, 'way': 3138, 'good': 3136, 'people': 2888, 'will': 2869, 'no': 2790, 'would': 2766, 'about': 2680, 'work': 2657, 'here': 2648, 'them': 2538, 'me': 2492, 'right': 2464, 'say': 2428, 'could': 2366, 'out': 2290, 'come': 2234, 'more': 2173, 'does': 2128, 'on': 2089, 'see': 2067, 'where': 2048, 'if': 2039, 'had': 1945, 'much': 1930, 'play': 1763, 'money': 1758, 'well': 1726, 'my': 1689, 'back': 1673, 'who': 1655, 'with': 1654, 'been': 1649, 'day': 1591, 'should': 1587, 'him': 1577, 'never': 1566, 'at': 1535, 'too': 1510, 'us': 1472, 'were': 1446, 'game': 1436, 'year': 1424, 'has': 1418, 'take': 1408, 'long': 1387, 'then': 1384, 'new': 1349, 'still': 1328, 'life': 1292, 'up': 1223, 'over': 1220, 'make': 1217, 'as': 1183, 'or': 1127, 'best': 1122, 'last': 1090, 'only': 1075, 'home': 1044, 'business': 1001, 'some': 985, 'many': 973, 'place': 942, 'first': 941, 'other': 939, 'part': 934, 'when': 910, 'very': 897, 'years': 892, 'our': 846, 'may': 841, 'any': 818, 'team': 817, 'end': 816, 'same': 804, 'york': 804, 'even': 798, 'from': 796, 'says': 794, 'big': 793, 'today': 774, 'his': 762, 'two': 753, 'children': 749, 'family': 733, 'next': 728, 'her': 720, 'show': 714, 'man': 673, ':': 671, 'left': 661, 'after': 648, 'case': 647, 'world': 646, 'every': 643, 'made': 643, 'own': 624, 'used': 618, 'three': 604, 'your': 593, 'down': 589, 'might': 587, 'put': 574, 'because': 573, 'another': 561, 'school': 542, 'war': 538, 'than': 519, 'night': 515, 'their': 515, 'most': 515, 'days': 509, 'around': 503, 'little': 496, 'these': 480, 'week': 479, 'house': 476, 'old': 460, 'country': 455, 'city': 452, 'off': 436, 'before': 434, 'those': 422, 'times': 421, 'called': 410, 'president': 399, 'use': 390, 'season': 389, 'both': 375, 'found': 374, 'four': 351, 'music': 350, 'five': 348, 'through': 346, 'few': 335, 'which': 316, 'ago': 309, 'each': 307, 'second': 298, 'women': 287, 'though': 287, 'by': 287, 'also': 285, 'government': 284, 'states': 271, 'law': 267, 'against': 266, '--': 264, 'united': 254, 'american': 247, 'less': 243, 'company': 236, 'into': 232, 'without': 225, 'market': 225, 'state': 217, 'while': 214, 'police': 201, 'high': 200, 'yesterday': 195, ';': 193, 'being': 192, 'public': 183, 'white': 180, 'set': 172, 'until': 170, 'office': 168, 'court': 162, 'an': 152, 'street': 144, 'program': 140, 'since': 121, 'such': 121, 'its': 120, 'group': 96, 'political': 90, 'companies': 87, 'center': 74, 'john': 73, 'several': 71, 'director': 70, 'members': 67, 'west': 65, 'million': 65, 'department': 54, 'during': 53, '-': 53, 'between': 47, 'under': 45, 'officials': 44, 'general': 42, 'federal': 39, 'mr.': 37, 'university': 37, 'among': 34, ')': 22, 'national': 21, 'former': 15, 'ms.': 10, '$': 5, 'dr.': 4, 'percent': 2, 'including': 1})\n",
            "Word: . has Rate:0.11%\n",
            "Word: it has Rate:0.04%\n",
            "Word: , has Rate:0.03%\n",
            "Word: i has Rate:0.03%\n",
            "Word: do has Rate:0.03%\n",
            "Word: to has Rate:0.03%\n",
            "Word: nt has Rate:0.02%\n",
            "Word: ? has Rate:0.02%\n",
            "Word: the has Rate:0.02%\n",
            "Word: that has Rate:0.02%\n"
          ],
          "name": "stdout"
        },
        {
          "output_type": "execute_result",
          "data": {
            "text/plain": [
              "\"\\nThe top ten most common words in the vocabulary are:\\n('.', 728766)\\n('it', 262800)\\n(',', 221247)\\n('i', 200403)\\n('do', 182206)\\n('to', 175833)\\n('nt', 148140)\\n('?', 145891)\\n('the', 143451)\\n('that', 142155)\\n\\nHow often do these words appear in the training set?\\nWord: . has Rate:0.86%\\nWord: it has Rate:0.31%\\nWord: , has Rate:0.26%\\nWord: i has Rate:0.24%\\nWord: do has Rate:0.22%\\nWord: to has Rate:0.21%\\nWord: nt has Rate:0.17%\\nWord: the has Rate:0.17%\\nWord: 's has Rate:0.17%\\nWord: that has Rate:0.17%\\n\""
            ]
          },
          "metadata": {
            "tags": []
          },
          "execution_count": 14
        }
      ]
    },
    {
      "cell_type": "markdown",
      "metadata": {
        "id": "_q3my4sN80YM",
        "colab_type": "text"
      },
      "source": [
        "### Part (c) -- 4 pts\n",
        "\n",
        "Complete the helper functions `convert_words_to_indices` and\n",
        "`generate_4grams`, so that the function `process_data` will take a \n",
        "list of sentences (i.e. list of list of words), and generate an \n",
        "$$N \\times 4$$ numpy matrix containing indices of 4 words that appear\n",
        "next to each other. You can use the constances `vocab`, `vocab_itos`,\n",
        "and `vocab_stoi` in your code."
      ]
    },
    {
      "cell_type": "code",
      "metadata": {
        "id": "d3U9IOdR80YQ",
        "colab_type": "code",
        "outputId": "d3fc3083-4daa-4b71-f658-78e07f251ae6",
        "colab": {
          "base_uri": "https://localhost:8080/",
          "height": 207
        }
      },
      "source": [
        "# A list of all the words in the data set. We will assign a unique \n",
        "# identifier for each of these words.\n",
        "vocab = sorted(list(set([w for s in train for w in s])))\n",
        "# A mapping of index => word (string)\n",
        "vocab_itos = dict(enumerate(vocab))\n",
        "# A mapping of word => its index\n",
        "vocab_stoi = {word:index for index, word in vocab_itos.items()}\n",
        "\n",
        "print(vocab)\n",
        "print(vocab_itos)\n",
        "print(vocab_stoi)\n",
        "\n",
        "def convert_words_to_indices(sents):\n",
        "    \"\"\"\n",
        "    This function takes a list of sentences (list of list of words)\n",
        "    and returns a new list with the same structure, but where each word\n",
        "    is replaced by its index in `vocab_stoi`.\n",
        "\n",
        "    Example:\n",
        "    >>> convert_words_to_indices([['one', 'in', 'five', 'are', 'over', 'here'], ['other', 'one', 'since', 'yesterday'], ['you']])\n",
        "    [[148, 98, 70, 23, 154, 89], [151, 148, 181, 246], [248]]\n",
        "    \"\"\"\n",
        "    # Write your code here\n",
        "    new_sents = []\n",
        "    for i in range(len(sents)):\n",
        "      inner = []\n",
        "      for j in range(len(sents[i])):\n",
        "        inner.append(vocab_stoi[sents[i][j]])\n",
        "      new_sents.append(inner)\n",
        "    return new_sents\n",
        "\n",
        "\n",
        "def generate_4grams(seqs):\n",
        "    \"\"\"\n",
        "    This function takes a list of sentences (list of lists) and returns\n",
        "    a new list containing the 4-grams (four consequentively occuring words)\n",
        "    that appear in the sentences. Note that a unique 4-gram can appear multiple\n",
        "    times, one per each time that the 4-gram appears in the data parameter `seqs`.\n",
        "\n",
        "    Example:\n",
        "\n",
        "    >>> generate_4grams([[148, 98, 70, 23, 154, 89], [151, 148, 181, 246], [248]])\n",
        "    [[148, 98, 70, 23], [98, 70, 23, 154], [70, 23, 154, 89], [151, 148, 181, 246]]\n",
        "    >>> generate_4grams([[1, 1, 1, 1, 1]])\n",
        "    [[1, 1, 1, 1], [1, 1, 1, 1]]\n",
        "    \"\"\"\n",
        "\n",
        "    # Write your code here\n",
        "    new_seqs = []\n",
        "    for i in range(len(seqs)):\n",
        "      inner = []\n",
        "      inner_length = len(seqs[i])\n",
        "      shift = 0\n",
        "      while (inner_length >= 4):\n",
        "        for j in range(4):\n",
        "          inner.append(seqs[i][j+shift])\n",
        "        shift += 1\n",
        "        inner_length -= 1\n",
        "        new_seqs.append(inner)\n",
        "        inner = []\n",
        "    return new_seqs\n",
        "\n",
        "def process_data(sents):\n",
        "    \"\"\"\n",
        "    This function takes a list of sentences (list of lists), and generates an\n",
        "    numpy matrix with shape [N, 4] containing indices of words in 4-grams.\n",
        "    \"\"\"\n",
        "    indices = convert_words_to_indices(sents)\n",
        "    fourgrams = generate_4grams(indices)\n",
        "    return np.array(fourgrams)\n",
        "\n",
        "train4grams = process_data(train)\n",
        "valid4grams = process_data(valid)\n",
        "test4grams = process_data(test)\n",
        "\n",
        "#Test cases:\n",
        "print(convert_words_to_indices([['one', 'in', 'five', 'are', 'over', 'here'], ['other', 'one', 'since', 'yesterday'], ['you']]))\n",
        "print(generate_4grams([[148, 98, 70, 23, 154, 89], [151, 148, 181, 246], [248]]))\n",
        "print(generate_4grams([[1, 1, 1, 1, 1]]))\n",
        "print(process_data([['one', 'in', 'five', 'are', 'over', 'here'], ['other', 'one', 'since', 'yesterday'], ['you']]))"
      ],
      "execution_count": 15,
      "outputs": [
        {
          "output_type": "stream",
          "text": [
            "['$', \"'s\", ')', ',', '-', '--', '.', ':', ';', '?', 'a', 'about', 'after', 'against', 'ago', 'all', 'also', 'american', 'among', 'an', 'and', 'another', 'any', 'are', 'around', 'as', 'at', 'back', 'be', 'because', 'been', 'before', 'being', 'best', 'between', 'big', 'both', 'business', 'but', 'by', 'called', 'can', 'case', 'center', 'children', 'city', 'come', 'companies', 'company', 'could', 'country', 'court', 'day', 'days', 'department', 'did', 'director', 'do', 'does', 'down', 'dr.', 'during', 'each', 'end', 'even', 'every', 'family', 'federal', 'few', 'first', 'five', 'for', 'former', 'found', 'four', 'from', 'game', 'general', 'get', 'go', 'going', 'good', 'government', 'group', 'had', 'has', 'have', 'he', 'her', 'here', 'high', 'him', 'his', 'home', 'house', 'how', 'i', 'if', 'in', 'including', 'into', 'is', 'it', 'its', 'john', 'just', 'know', 'last', 'law', 'left', 'less', 'life', 'like', 'little', 'long', 'made', 'make', 'man', 'many', 'market', 'may', 'me', 'members', 'might', 'million', 'money', 'more', 'most', 'mr.', 'ms.', 'much', 'music', 'my', 'national', 'never', 'new', 'next', 'night', 'no', 'not', 'now', 'nt', 'of', 'off', 'office', 'officials', 'old', 'on', 'one', 'only', 'or', 'other', 'our', 'out', 'over', 'own', 'part', 'people', 'percent', 'place', 'play', 'police', 'political', 'president', 'program', 'public', 'put', 'right', 'said', 'same', 'say', 'says', 'school', 'season', 'second', 'see', 'set', 'several', 'she', 'should', 'show', 'since', 'so', 'some', 'state', 'states', 'still', 'street', 'such', 'take', 'team', 'than', 'that', 'the', 'their', 'them', 'then', 'there', 'these', 'they', 'think', 'this', 'those', 'though', 'three', 'through', 'time', 'times', 'to', 'today', 'too', 'two', 'under', 'united', 'university', 'until', 'up', 'us', 'use', 'used', 'very', 'want', 'war', 'was', 'way', 'we', 'week', 'well', 'were', 'west', 'what', 'when', 'where', 'which', 'while', 'white', 'who', 'will', 'with', 'without', 'women', 'work', 'world', 'would', 'year', 'years', 'yesterday', 'york', 'you', 'your']\n",
            "{0: '$', 1: \"'s\", 2: ')', 3: ',', 4: '-', 5: '--', 6: '.', 7: ':', 8: ';', 9: '?', 10: 'a', 11: 'about', 12: 'after', 13: 'against', 14: 'ago', 15: 'all', 16: 'also', 17: 'american', 18: 'among', 19: 'an', 20: 'and', 21: 'another', 22: 'any', 23: 'are', 24: 'around', 25: 'as', 26: 'at', 27: 'back', 28: 'be', 29: 'because', 30: 'been', 31: 'before', 32: 'being', 33: 'best', 34: 'between', 35: 'big', 36: 'both', 37: 'business', 38: 'but', 39: 'by', 40: 'called', 41: 'can', 42: 'case', 43: 'center', 44: 'children', 45: 'city', 46: 'come', 47: 'companies', 48: 'company', 49: 'could', 50: 'country', 51: 'court', 52: 'day', 53: 'days', 54: 'department', 55: 'did', 56: 'director', 57: 'do', 58: 'does', 59: 'down', 60: 'dr.', 61: 'during', 62: 'each', 63: 'end', 64: 'even', 65: 'every', 66: 'family', 67: 'federal', 68: 'few', 69: 'first', 70: 'five', 71: 'for', 72: 'former', 73: 'found', 74: 'four', 75: 'from', 76: 'game', 77: 'general', 78: 'get', 79: 'go', 80: 'going', 81: 'good', 82: 'government', 83: 'group', 84: 'had', 85: 'has', 86: 'have', 87: 'he', 88: 'her', 89: 'here', 90: 'high', 91: 'him', 92: 'his', 93: 'home', 94: 'house', 95: 'how', 96: 'i', 97: 'if', 98: 'in', 99: 'including', 100: 'into', 101: 'is', 102: 'it', 103: 'its', 104: 'john', 105: 'just', 106: 'know', 107: 'last', 108: 'law', 109: 'left', 110: 'less', 111: 'life', 112: 'like', 113: 'little', 114: 'long', 115: 'made', 116: 'make', 117: 'man', 118: 'many', 119: 'market', 120: 'may', 121: 'me', 122: 'members', 123: 'might', 124: 'million', 125: 'money', 126: 'more', 127: 'most', 128: 'mr.', 129: 'ms.', 130: 'much', 131: 'music', 132: 'my', 133: 'national', 134: 'never', 135: 'new', 136: 'next', 137: 'night', 138: 'no', 139: 'not', 140: 'now', 141: 'nt', 142: 'of', 143: 'off', 144: 'office', 145: 'officials', 146: 'old', 147: 'on', 148: 'one', 149: 'only', 150: 'or', 151: 'other', 152: 'our', 153: 'out', 154: 'over', 155: 'own', 156: 'part', 157: 'people', 158: 'percent', 159: 'place', 160: 'play', 161: 'police', 162: 'political', 163: 'president', 164: 'program', 165: 'public', 166: 'put', 167: 'right', 168: 'said', 169: 'same', 170: 'say', 171: 'says', 172: 'school', 173: 'season', 174: 'second', 175: 'see', 176: 'set', 177: 'several', 178: 'she', 179: 'should', 180: 'show', 181: 'since', 182: 'so', 183: 'some', 184: 'state', 185: 'states', 186: 'still', 187: 'street', 188: 'such', 189: 'take', 190: 'team', 191: 'than', 192: 'that', 193: 'the', 194: 'their', 195: 'them', 196: 'then', 197: 'there', 198: 'these', 199: 'they', 200: 'think', 201: 'this', 202: 'those', 203: 'though', 204: 'three', 205: 'through', 206: 'time', 207: 'times', 208: 'to', 209: 'today', 210: 'too', 211: 'two', 212: 'under', 213: 'united', 214: 'university', 215: 'until', 216: 'up', 217: 'us', 218: 'use', 219: 'used', 220: 'very', 221: 'want', 222: 'war', 223: 'was', 224: 'way', 225: 'we', 226: 'week', 227: 'well', 228: 'were', 229: 'west', 230: 'what', 231: 'when', 232: 'where', 233: 'which', 234: 'while', 235: 'white', 236: 'who', 237: 'will', 238: 'with', 239: 'without', 240: 'women', 241: 'work', 242: 'world', 243: 'would', 244: 'year', 245: 'years', 246: 'yesterday', 247: 'york', 248: 'you', 249: 'your'}\n",
            "{'$': 0, \"'s\": 1, ')': 2, ',': 3, '-': 4, '--': 5, '.': 6, ':': 7, ';': 8, '?': 9, 'a': 10, 'about': 11, 'after': 12, 'against': 13, 'ago': 14, 'all': 15, 'also': 16, 'american': 17, 'among': 18, 'an': 19, 'and': 20, 'another': 21, 'any': 22, 'are': 23, 'around': 24, 'as': 25, 'at': 26, 'back': 27, 'be': 28, 'because': 29, 'been': 30, 'before': 31, 'being': 32, 'best': 33, 'between': 34, 'big': 35, 'both': 36, 'business': 37, 'but': 38, 'by': 39, 'called': 40, 'can': 41, 'case': 42, 'center': 43, 'children': 44, 'city': 45, 'come': 46, 'companies': 47, 'company': 48, 'could': 49, 'country': 50, 'court': 51, 'day': 52, 'days': 53, 'department': 54, 'did': 55, 'director': 56, 'do': 57, 'does': 58, 'down': 59, 'dr.': 60, 'during': 61, 'each': 62, 'end': 63, 'even': 64, 'every': 65, 'family': 66, 'federal': 67, 'few': 68, 'first': 69, 'five': 70, 'for': 71, 'former': 72, 'found': 73, 'four': 74, 'from': 75, 'game': 76, 'general': 77, 'get': 78, 'go': 79, 'going': 80, 'good': 81, 'government': 82, 'group': 83, 'had': 84, 'has': 85, 'have': 86, 'he': 87, 'her': 88, 'here': 89, 'high': 90, 'him': 91, 'his': 92, 'home': 93, 'house': 94, 'how': 95, 'i': 96, 'if': 97, 'in': 98, 'including': 99, 'into': 100, 'is': 101, 'it': 102, 'its': 103, 'john': 104, 'just': 105, 'know': 106, 'last': 107, 'law': 108, 'left': 109, 'less': 110, 'life': 111, 'like': 112, 'little': 113, 'long': 114, 'made': 115, 'make': 116, 'man': 117, 'many': 118, 'market': 119, 'may': 120, 'me': 121, 'members': 122, 'might': 123, 'million': 124, 'money': 125, 'more': 126, 'most': 127, 'mr.': 128, 'ms.': 129, 'much': 130, 'music': 131, 'my': 132, 'national': 133, 'never': 134, 'new': 135, 'next': 136, 'night': 137, 'no': 138, 'not': 139, 'now': 140, 'nt': 141, 'of': 142, 'off': 143, 'office': 144, 'officials': 145, 'old': 146, 'on': 147, 'one': 148, 'only': 149, 'or': 150, 'other': 151, 'our': 152, 'out': 153, 'over': 154, 'own': 155, 'part': 156, 'people': 157, 'percent': 158, 'place': 159, 'play': 160, 'police': 161, 'political': 162, 'president': 163, 'program': 164, 'public': 165, 'put': 166, 'right': 167, 'said': 168, 'same': 169, 'say': 170, 'says': 171, 'school': 172, 'season': 173, 'second': 174, 'see': 175, 'set': 176, 'several': 177, 'she': 178, 'should': 179, 'show': 180, 'since': 181, 'so': 182, 'some': 183, 'state': 184, 'states': 185, 'still': 186, 'street': 187, 'such': 188, 'take': 189, 'team': 190, 'than': 191, 'that': 192, 'the': 193, 'their': 194, 'them': 195, 'then': 196, 'there': 197, 'these': 198, 'they': 199, 'think': 200, 'this': 201, 'those': 202, 'though': 203, 'three': 204, 'through': 205, 'time': 206, 'times': 207, 'to': 208, 'today': 209, 'too': 210, 'two': 211, 'under': 212, 'united': 213, 'university': 214, 'until': 215, 'up': 216, 'us': 217, 'use': 218, 'used': 219, 'very': 220, 'want': 221, 'war': 222, 'was': 223, 'way': 224, 'we': 225, 'week': 226, 'well': 227, 'were': 228, 'west': 229, 'what': 230, 'when': 231, 'where': 232, 'which': 233, 'while': 234, 'white': 235, 'who': 236, 'will': 237, 'with': 238, 'without': 239, 'women': 240, 'work': 241, 'world': 242, 'would': 243, 'year': 244, 'years': 245, 'yesterday': 246, 'york': 247, 'you': 248, 'your': 249}\n",
            "[[148, 98, 70, 23, 154, 89], [151, 148, 181, 246], [248]]\n",
            "[[148, 98, 70, 23], [98, 70, 23, 154], [70, 23, 154, 89], [151, 148, 181, 246]]\n",
            "[[1, 1, 1, 1], [1, 1, 1, 1]]\n",
            "[[148  98  70  23]\n",
            " [ 98  70  23 154]\n",
            " [ 70  23 154  89]\n",
            " [151 148 181 246]]\n"
          ],
          "name": "stdout"
        }
      ]
    },
    {
      "cell_type": "markdown",
      "metadata": {
        "id": "l6yTvdap80Yf",
        "colab_type": "text"
      },
      "source": [
        "## Question 2. A Multi-Layer Perceptron\n",
        "\n",
        "In this section, we will build a two-layer multi-layer perceptron.\n",
        "We will first do this in numpy, and then once more in PyTorch.\n",
        "Our model will look like this:\n",
        "\n",
        "<img src=\"https://www.cs.toronto.edu/~lczhang/321/hw/p2_model1.png\" />\n",
        "\n",
        "Start by reviewing these helper functions, which are given to you:"
      ]
    },
    {
      "cell_type": "code",
      "metadata": {
        "id": "rH4vFH3W80Yj",
        "colab_type": "code",
        "colab": {}
      },
      "source": [
        "def make_onehot(indicies, total=250):\n",
        "    \"\"\"\n",
        "    Convert indicies into one-hot vectors by\n",
        "        1. Creating an identity matrix of shape [total, total]\n",
        "        2. Indexing the appropriate columns of that identity matrix\n",
        "    \"\"\"\n",
        "    I = np.eye(total)\n",
        "    return I[indicies]\n",
        "\n",
        "def softmax(x):\n",
        "    \"\"\"\n",
        "    Compute the softmax of vector x, or row-wise for a matrix x.\n",
        "    We subtract x.max(axis=0) from each row for numerical stability.\n",
        "    \"\"\"\n",
        "    x = x.T\n",
        "    exps = np.exp(x - x.max(axis=0))\n",
        "    probs = exps / np.sum(exps, axis=0)\n",
        "    return probs.T\n",
        "\n",
        "def get_batch(data, range_min, range_max, onehot=True):\n",
        "    \"\"\"\n",
        "    Convert one batch of data in the form of 4-grams into input and output\n",
        "    data and return the training data (xs, ts) where:\n",
        "     - `xs` is an numpy array of one-hot vectors of shape [batch_size, 3, 250]\n",
        "     - `ts` is either\n",
        "            - a numpy array of shape [batch_size, 250] if onehot is True,\n",
        "            - a numpy array of shape [batch_size] containing indicies otherwise\n",
        "\n",
        "    Preconditions:\n",
        "     - `data` is a numpy array of shape [N, 4] produced by a call\n",
        "        to `process_data`\n",
        "     - range_max > range_min\n",
        "    \"\"\"\n",
        "    xs = data[range_min:range_max, :3]\n",
        "    xs = make_onehot(xs)\n",
        "    ts = data[range_min:range_max, 3]\n",
        "    if onehot:\n",
        "        ts = make_onehot(ts).reshape(-1, 250)\n",
        "    return xs, ts\n",
        "\n",
        "def estimate_accuracy(model, data, batch_size=5000, max_N=100000):\n",
        "    \"\"\"\n",
        "    Estimate the accuracy of the model on the data. To reduce\n",
        "    computation time, use at most `max_N` elements of `data` to\n",
        "    produce the estimate.\n",
        "    \"\"\"\n",
        "    correct = 0\n",
        "    N = 0\n",
        "    for i in range(0, data.shape[0], batch_size):\n",
        "        xs, ts = get_batch(data, i, i + batch_size, onehot=False)\n",
        "        y = model(xs)\n",
        "        pred = np.argmax(y, axis=1)\n",
        "        correct += np.sum(ts == pred)\n",
        "        N += ts.shape[0]\n",
        "\n",
        "        if N > max_N:\n",
        "            break\n",
        "    return correct / N"
      ],
      "execution_count": 0,
      "outputs": []
    },
    {
      "cell_type": "markdown",
      "metadata": {
        "id": "CJ_QEq-m80Yv",
        "colab_type": "text"
      },
      "source": [
        "### Part (a) -- 2 point\n",
        "\n",
        "Your first task is to implement MLP model in Numpy.\n",
        "This model is very similar to the one we built in Tutorial 5. However, we will\n",
        "write our code differently from Tutorial 5, so that the class methods and APIs\n",
        "are similar to that of PyTorch. This is to give you some intuition about what\n",
        "PyTorch is doing under the hood.\n",
        "\n",
        "We already wrote code for the backward pass for this model in Tutorial 5, so the\n",
        "code is given to you. To make sure you understand how the model works, \n",
        "**write the code to compute the forward pass**."
      ]
    },
    {
      "cell_type": "code",
      "metadata": {
        "id": "J6YKMsot80Yy",
        "colab_type": "code",
        "colab": {}
      },
      "source": [
        "class NumpyMLPModel(object):\n",
        "    def __init__(self, num_features=250*3, num_hidden=400, num_classes=250):\n",
        "        \"\"\"\n",
        "        Initialize the weights and biases of this two-layer MLP.\n",
        "        \"\"\"\n",
        "        self.num_features = num_features\n",
        "        self.num_hidden = num_hidden\n",
        "        self.num_classes = num_classes\n",
        "        self.weights1 = np.zeros([num_hidden, num_features])\n",
        "        self.bias1 = np.zeros([num_hidden])\n",
        "        self.weights2 = np.zeros([num_classes, num_hidden])\n",
        "        self.bias2 = np.zeros([num_classes])\n",
        "        self.cleanup()\n",
        "\n",
        "    def initializeParams(self):\n",
        "        \"\"\"\n",
        "        Initialize the weights and biases of this two-layer MLP to be random.\n",
        "        This random initialization is necessary to break the symmetry in the\n",
        "        gradient descent update for our hidden weights and biases. If all our\n",
        "        weights were initialized to the same value, then their gradients will\n",
        "        all be the same!\n",
        "        \"\"\"\n",
        "        self.weights1 = np.random.normal(0, 2/self.num_features, self.weights1.shape)\n",
        "        self.bias1 = np.random.normal(0, 2/self.num_features, self.bias1.shape)\n",
        "        self.weights2 = np.random.normal(0, 2/self.num_hidden, self.weights2.shape)\n",
        "        self.bias2 = np.random.normal(0, 2/self.num_hidden, self.bias2.shape)\n",
        "\n",
        "    def forward(self, inputs):\n",
        "        \"\"\"\n",
        "        Compute the forward pass prediction for inputs.\n",
        "        Note that `inputs` will be a rank-3 numpy array with shape [N, 3, 250],\n",
        "        so we will need to flatten the tensor to [N, 750] first.\n",
        "\n",
        "        For the ReLU activation, you may find the function `np.maximum` helpful\n",
        "        \"\"\"\n",
        "        X = inputs.reshape([-1, 750])\n",
        "\n",
        "        # TODO:\n",
        "\n",
        "        self.N = X.shape[0]\n",
        "        self.X = X\n",
        "\n",
        "        #self.h = np.dot(self.X, np.transpose(self.weights1)) + self.bias1\n",
        "        #z1\n",
        "\n",
        "\n",
        "        self.z1 =  np.dot(self.X, np.transpose(self.weights1)) + self.bias1\n",
        "        self.h = np.maximum(0, self.z1)\n",
        "        self.z2 = np.dot(self.h, np.transpose(self.weights2)) + self.bias2\n",
        "        self.y = softmax(self.z2)\n",
        "        return self.y\n",
        "\n",
        "    def __call__(self, inputs):\n",
        "        \"\"\"\n",
        "        To be compatible with PyTorch API. With this code, the following two\n",
        "        calls are identical:\n",
        "\n",
        "        >>> m = TwoLayerMLP()\n",
        "        >>> m.forward(inputs)\n",
        "\n",
        "        and \n",
        "\n",
        "        >>> m = TwoLayerMLP()\n",
        "        >>> m(inputs)\n",
        "        \"\"\"\n",
        "        return self.forward(inputs)\n",
        "\n",
        "    def backward(self, ts):\n",
        "        \"\"\"\n",
        "        Compute the backward pass, given the ground-truth, one-hot targets.\n",
        "        Note that `ts` needs to be a rank 2 numpy array with shape [N, 250].\n",
        "        \"\"\"\n",
        "        self.z2_bar = (self.y - ts) / self.N\n",
        "        self.w2_bar = np.dot(self.z2_bar.T, self.h)\n",
        "        self.b2_bar = np.dot(self.z2_bar.T, np.ones(self.N))\n",
        "        self.h_bar = np.matmul(self.z2_bar, self.weights2)\n",
        "        self.z1_bar = self.h_bar * (self.z1 > 0)\n",
        "        self.w1_bar = np.dot(self.z1_bar.T, self.X)\n",
        "        self.b1_bar = np.dot(self.z1_bar.T, np.ones(self.N))\n",
        "\n",
        "    def update(self, alpha):\n",
        "        \"\"\"\n",
        "        Compute the gradient descent update for the parameters.\n",
        "        \"\"\"\n",
        "        self.weights1 = self.weights1 - alpha * self.w1_bar\n",
        "        self.bias1    = self.bias1    - alpha * self.b1_bar\n",
        "        self.weights2 = self.weights2 - alpha * self.w2_bar\n",
        "        self.bias2    = self.bias2    - alpha * self.b2_bar\n",
        "\n",
        "    def cleanup(self):\n",
        "        \"\"\"\n",
        "        Erase the values of the variables that we use in our computation.\n",
        "        \"\"\"\n",
        "        self.N = None\n",
        "        self.X = None\n",
        "        self.z1 = None\n",
        "        self.h = None\n",
        "        self.z2 = None\n",
        "        self.y = None\n",
        "        self.z2_bar = None\n",
        "        self.w2_bar = None\n",
        "        self.b2_bar = None\n",
        "        self.h_bar = None\n",
        "        self.z1_bar = None\n",
        "        self.w1_bar = None\n",
        "        self.b1_bar = None"
      ],
      "execution_count": 0,
      "outputs": []
    },
    {
      "cell_type": "markdown",
      "metadata": {
        "id": "5wShirdp80Y_",
        "colab_type": "text"
      },
      "source": [
        "### Part (b) -- 2 points\n",
        "\n",
        "Complete the `run_gradient_descent` function. Train your numpy MLP model \n",
        "to obtain a training accuracy of at least 25%. You do not need to train\n",
        "this model to convergence."
      ]
    },
    {
      "cell_type": "code",
      "metadata": {
        "id": "Xobhuy9D80ZB",
        "colab_type": "code",
        "colab": {}
      },
      "source": [
        "def run_gradient_descent(model,\n",
        "                         train_data=train4grams,\n",
        "                         validation_data=valid4grams,\n",
        "                         batch_size=100,\n",
        "                         learning_rate=0.1,\n",
        "                         max_iters=5000):\n",
        "    \"\"\"\n",
        "    Use gradient descent to train the numpy model on the dataset train4grams.\n",
        "    \"\"\"\n",
        "    n = 0\n",
        "    while n < max_iters:\n",
        "        # shuffle the training data, and break early if we don't have\n",
        "        # enough data to remaining in the batch\n",
        "        np.random.shuffle(train_data)\n",
        "        for i in range(0, train_data.shape[0], batch_size):\n",
        "            if (i + batch_size) > train_data.shape[0]:\n",
        "                break\n",
        "\n",
        "            # get the input and targets of a minibatch\n",
        "            xs, ts = get_batch(train_data, i, i + batch_size, onehot=True)\n",
        "\n",
        "            # forward pass: compute prediction\n",
        "\n",
        "            # TODO: add your code here\n",
        "            y = model.forward(xs)\n",
        "\n",
        "            # backward pass: compute error \n",
        "            \n",
        "            # TODO: add your code here\n",
        "            model.backward(ts)\n",
        "            model.update(learning_rate)\n",
        "\n",
        "            # increment the iteration count\n",
        "            n += 1\n",
        "\n",
        "            # compute and plot the *validation* loss and accuracy\n",
        "            if (n % 100 == 0):\n",
        "                train_cost = -np.sum(ts * np.log(y)) / batch_size\n",
        "                train_acc = estimate_accuracy(model, train_data)\n",
        "                val_acc = estimate_accuracy(model, validation_data)\n",
        "                model.cleanup()\n",
        "                print(\"Iter %d. [Val Acc %.0f%%] [Train Acc %.0f%%, Loss %f]\" % (\n",
        "                      n, val_acc * 100, train_acc * 100, train_cost))\n",
        "            \n",
        "            if n >= max_iters:\n",
        "              return\n",
        "\n",
        "\n",
        "#numpy_mlp = NumpyMLPModel()\n",
        "#numpy_mlp.initializeParams()\n",
        "#run_gradient_descent(numpy_mlp)"
      ],
      "execution_count": 0,
      "outputs": []
    },
    {
      "cell_type": "markdown",
      "metadata": {
        "id": "YzveT2cK80ZQ",
        "colab_type": "text"
      },
      "source": [
        "### Part (c) -- 2 pts\n",
        "\n",
        "We will do build the same model in PyTorch. Since PyTorch uses automatic\n",
        "differentiation, we only need to write the *forward pass* of our\n",
        "model. Complete the `forward` function below:"
      ]
    },
    {
      "cell_type": "code",
      "metadata": {
        "id": "Kf7Am6XK80ZT",
        "colab_type": "code",
        "colab": {}
      },
      "source": [
        "class PyTorchMLP(nn.Module):\n",
        "    def __init__(self, num_hidden=400):\n",
        "        super(PyTorchMLP, self).__init__()\n",
        "        self.layer1 = nn.Linear(750, num_hidden)\n",
        "        self.layer2 = nn.Linear(num_hidden, 250)\n",
        "        self.num_hidden = num_hidden\n",
        "    def forward(self, inp):\n",
        "        inp = inp.reshape([-1, 750])\n",
        "        # TODO: complete this function\n",
        "        inp = self.layer1(inp)\n",
        "        inp = torch.relu(inp)\n",
        "        #torch.relu(self.fc_layer1(embeddings))\n",
        "        inp = self.layer2(inp)\n",
        "        #inp = torch.softmax(inp,0)\n",
        "        return inp\n",
        "\n",
        "  #              embeddings = torch.relu(self.word_emb_layer(inp))\n",
        "   #     embeddings = embeddings.reshape([-1, self.emb_size * 3])\n",
        "    #    hidden = torch.relu(self.fc_layer1(embeddings))\n",
        "\n"
      ],
      "execution_count": 0,
      "outputs": []
    },
    {
      "cell_type": "markdown",
      "metadata": {
        "id": "C3GAYHrb80Zd",
        "colab_type": "text"
      },
      "source": [
        "### Part (d) -- 4 pts\n",
        "\n",
        "We'll write similar code to train the PyTorch model. With a few differences:\n",
        "\n",
        "1. We will use a slightly fancier optimizer called **Adam**. For this optimizer,\n",
        "   a smaller learning rate usually works better, so the default learning\n",
        "   rate is set to 0.001.\n",
        "2. Since we get weight decay for free, you are welcome to use weight decay.\n",
        "\n",
        "Complete the function `run_pytorch_gradient_descent`, and use it to train\n",
        "your PyTorch MLP model to obtain a training accuracy of at least 38%.\n",
        "Plot the learning curve using the `plot_learning_curve` function provided\n",
        "to you, and include your plot in your PDF submission."
      ]
    },
    {
      "cell_type": "code",
      "metadata": {
        "id": "XHCrq4Ic80Zi",
        "colab_type": "code",
        "colab": {}
      },
      "source": [
        "def estimate_accuracy_torch(model, data, batch_size=5000, max_N=100000):\n",
        "    \"\"\"\n",
        "    Estimate the accuracy of the model on the data. To reduce\n",
        "    computation time, use at most `max_N` elements of `data` to\n",
        "    produce the estimate.\n",
        "    \"\"\"\n",
        "    correct = 0\n",
        "    N = 0\n",
        "    for i in range(0, data.shape[0], batch_size):\n",
        "        # get a batch of data\n",
        "        xs, ts = get_batch(data, i, i + batch_size, onehot=False)\n",
        "        \n",
        "        # forward pass prediction\n",
        "        y = model(torch.Tensor(xs))\n",
        "        y = y.detach().numpy() # convert the PyTorch tensor => numpy array\n",
        "        pred = np.argmax(y, axis=1)\n",
        "        correct += np.sum(pred == ts)\n",
        "        N += ts.shape[0]\n",
        "\n",
        "        if N > max_N:\n",
        "            break\n",
        "    return correct / N\n",
        "\n",
        "def run_pytorch_gradient_descent(model,\n",
        "                                 train_data=train4grams,\n",
        "                                 validation_data=valid4grams,\n",
        "                                 batch_size=100,\n",
        "                                 learning_rate=0.001,\n",
        "                                 weight_decay=0,\n",
        "                                 max_iters=2000,\n",
        "                                 checkpoint_path=None):\n",
        "    \"\"\"\n",
        "    Train the PyTorch model on the dataset `train_data`, reporting\n",
        "    the validation accuracy on `validation_data`, for `max_iters`\n",
        "    iteration.\n",
        "\n",
        "    If you want to **checkpoint** your model weights (i.e. save the\n",
        "    model weights to Google Drive), then the parameter\n",
        "    `checkpoint_path` should be a string path with `{}` to be replaced\n",
        "    by the iteration count:\n",
        "\n",
        "    For example, calling \n",
        "\n",
        "    >>> run_pytorch_gradient_descent(model, ...,\n",
        "            checkpoint_path = '/content/gdrive/My Drive/CSC321/mlp/ckpt-{}.pk')\n",
        "\n",
        "    will save the model parameters in Google Drive every 500 iterations.\n",
        "    You will have to make sure that the path exists (i.e. you'll need to create\n",
        "    the folder CSC321, mlp, etc...). Your Google Drive will be populated with files:\n",
        "\n",
        "    - /content/gdrive/My Drive/CSC321/mlp/ckpt-500.pk\n",
        "    - /content/gdrive/My Drive/CSC321/mlp/ckpt-1000.pk\n",
        "    - ...\n",
        "\n",
        "    To load the weights at a later time, you can run:\n",
        "\n",
        "    >>> model.load_state_dict(torch.load('/content/gdrive/My Drive/CSC321/mlp/ckpt-500.pk'))\n",
        "\n",
        "    This function returns the training loss, and the training/validation accuracy,\n",
        "    which we can use to plot the learning curve.\n",
        "    \"\"\"\n",
        "    criterion = nn.CrossEntropyLoss()\n",
        "    optimizer = optim.Adam(model.parameters(),\n",
        "                           lr=learning_rate,\n",
        "                           weight_decay=weight_decay)\n",
        "\n",
        "    iters, losses = [], []\n",
        "    iters_sub, train_accs, val_accs  = [], [] ,[]\n",
        "\n",
        "    n = 0 # the number of iterations\n",
        "    while True:\n",
        "        for i in range(0, train_data.shape[0], batch_size):\n",
        "            if (i + batch_size) > train_data.shape[0]:\n",
        "                break\n",
        "\n",
        "            # get the input and targets of a minibatch\n",
        "            xs, ts = get_batch(train_data, i, i + batch_size, onehot=False)\n",
        "\n",
        "            # convert from numpy arrays to PyTorch tensors\n",
        "            xs = torch.Tensor(xs)\n",
        "            ts = torch.Tensor(ts).long()\n",
        "\n",
        "            zs = model.forward(xs)\n",
        "            loss = criterion(zs, ts)\n",
        "            loss.backward()\n",
        "\n",
        "            optimizer.step()\n",
        "            optimizer.zero_grad()\n",
        "\n",
        "            # zs = ...                 # compute prediction logit\n",
        "            # loss =                   # compute the total loss\n",
        "            # ...                      # compute updates for each parameter\n",
        "            # ...                      # make the updates for each parameter\n",
        "            # ...                      # a clean up step for PyTorch\n",
        "\n",
        "            # save the current training information\n",
        "            \n",
        "            iters.append(n)\n",
        "            losses.append(float(loss)/batch_size)  # compute *average* loss\n",
        "\n",
        "            if n % 500 == 0:\n",
        "                iters_sub.append(n)\n",
        "                train_cost = float(loss.detach().numpy())\n",
        "                train_acc = estimate_accuracy_torch(model, train_data)\n",
        "                train_accs.append(train_acc)\n",
        "                val_acc = estimate_accuracy_torch(model, validation_data)\n",
        "                val_accs.append(val_acc)\n",
        "                print(\"Iter %d. [Val Acc %.0f%%] [Train Acc %.0f%%, Loss %f]\" % (\n",
        "                      n, val_acc * 100, train_acc * 100, train_cost))\n",
        "\n",
        "                if (checkpoint_path is not None) and n > 0:\n",
        "                    torch.save(model.state_dict(), checkpoint_path.format(n))\n",
        "\n",
        "            # increment the iteration number\n",
        "            n += 1\n",
        "\n",
        "            if n > max_iters:\n",
        "                return iters, losses, iters_sub, train_accs, val_accs\n",
        "\n",
        "\n",
        "def plot_learning_curve(iters, losses, iters_sub, train_accs, val_accs):\n",
        "    \"\"\"\n",
        "    Plot the learning curve.\n",
        "    \"\"\"\n",
        "    plt.title(\"Learning Curve: Loss per Iteration\")\n",
        "    plt.plot(iters, losses, label=\"Train\")\n",
        "    plt.xlabel(\"Iterations\")\n",
        "    plt.ylabel(\"Loss\")\n",
        "    plt.show()\n",
        "\n",
        "    plt.title(\"Learning Curve: Accuracy per Iteration\")\n",
        "    plt.plot(iters_sub, train_accs, label=\"Train\")\n",
        "    plt.plot(iters_sub, val_accs, label=\"Validation\")\n",
        "    plt.xlabel(\"Iterations\")\n",
        "    plt.ylabel(\"Accuracy\")\n",
        "    plt.legend(loc='best')\n",
        "    plt.show()"
      ],
      "execution_count": 0,
      "outputs": []
    },
    {
      "cell_type": "code",
      "metadata": {
        "id": "barKLB9080Zs",
        "colab_type": "code",
        "outputId": "84f87ba2-862c-497e-91c2-862b78d9e005",
        "colab": {
          "base_uri": "https://localhost:8080/",
          "height": 658
        }
      },
      "source": [
        "pytorch_mlp = PyTorchMLP()\n",
        "learning_curve_info = run_pytorch_gradient_descent(pytorch_mlp)\n",
        "\n",
        "# you might want to save the `learning_curve_info` somewhere, so that you can plot\n",
        "# the learning curve prior to exporting your PDF file\n",
        "\n",
        "plot_learning_curve(*learning_curve_info)"
      ],
      "execution_count": 21,
      "outputs": [
        {
          "output_type": "stream",
          "text": [
            "Iter 0. [Val Acc 1%] [Train Acc 1%, Loss 5.515549]\n",
            "Iter 500. [Val Acc 29%] [Train Acc 30%, Loss 2.912713]\n",
            "Iter 1000. [Val Acc 32%] [Train Acc 33%, Loss 2.720302]\n",
            "Iter 1500. [Val Acc 33%] [Train Acc 34%, Loss 2.682255]\n",
            "Iter 2000. [Val Acc 33%] [Train Acc 34%, Loss 2.645063]\n"
          ],
          "name": "stdout"
        },
        {
          "output_type": "display_data",
          "data": {
            "image/png": "[encoded data removed]",
            "text/plain": [
              "<Figure size 432x288 with 1 Axes>"
            ]
          },
          "metadata": {
            "tags": []
          }
        },
        {
          "output_type": "display_data",
          "data": {
            "image/png": "[encoded data removed]",
            "text/plain": [
              "<Figure size 432x288 with 1 Axes>"
            ]
          },
          "metadata": {
            "tags": []
          }
        }
      ]
    },
    {
      "cell_type": "markdown",
      "metadata": {
        "id": "DEIQgLMn80Z0",
        "colab_type": "text"
      },
      "source": [
        "### Part (e) -- 3 points\n",
        "\n",
        "Write a function `make_prediction` that takes as parameters\n",
        "a PyTorchMLP model and sentence (a list of words), and produces\n",
        "a prediction for the next word in the sentence.\n",
        "\n",
        "Start by thinking about what you need to do, step by step, taking\n",
        "care of the difference between a numpy array and a PyTorch Tensor."
      ]
    },
    {
      "cell_type": "code",
      "metadata": {
        "id": "DiMcevHw80Z7",
        "colab_type": "code",
        "colab": {
          "base_uri": "https://localhost:8080/",
          "height": 34
        },
        "outputId": "41a7eb19-68be-4bc7-8147-b1e00fee0b46"
      },
      "source": [
        "def make_prediction_torch(model, sentence):\n",
        "    \"\"\"\n",
        "    Use the model to make a prediction for the next word in the\n",
        "    sentence using the last 3 words (sentence[:-3]). You may assume\n",
        "    that len(sentence) >= 3 and that `model` is an instance of\n",
        "    PYTorchMLP.\n",
        "\n",
        "    This function should return the next word, represented as a string.\n",
        "\n",
        "    Example call:\n",
        "    >>> make_prediction_torch(pytorch_mlp, ['you', 'are', 'a'])\n",
        "    \"\"\"\n",
        "    global vocab_stoi, vocab_itos\n",
        "    \n",
        "    inds = []\n",
        "    for  i in range(-3,-0):\n",
        "      inds.append(vocab_stoi[sentence[i]])\n",
        "    data = torch.tensor(make_onehot(inds).reshape([1, -1, 250])).float()\n",
        "    out = model(data).data.numpy()\n",
        "    word = np.argmax(out)\n",
        "    return vocab_itos[word]\n",
        "    #  Write your code here\n",
        "    \n",
        "make_prediction_torch(pytorch_mlp, ['you', 'are', 'a'])"
      ],
      "execution_count": 30,
      "outputs": [
        {
          "output_type": "execute_result",
          "data": {
            "text/plain": [
              "'good'"
            ]
          },
          "metadata": {
            "tags": []
          },
          "execution_count": 30
        }
      ]
    },
    {
      "cell_type": "markdown",
      "metadata": {
        "id": "CF4BZdEQ80aE",
        "colab_type": "text"
      },
      "source": [
        "### Part (f) -- 4 points\n",
        "\n",
        "Use your code to predict what the next word should be in each\n",
        "of the following sentences:\n",
        "\n",
        "- \"You are a\"\n",
        "- \"few companies show\"\n",
        "- \"There are no\"\n",
        "- \"yesterday i was\"\n",
        "- \"the game had\"\n",
        "- \"yesterday the federal\"\n",
        "\n",
        "Do your predictions make sense? (If all of your predictions are the same,\n",
        "train your model for more iterations, or change the hyperparameters in your\n",
        "model. You may need to do this even if your training accuracy is >=38%)\n",
        "\n",
        "One concern you might have is that our model may be \"memorizing\" information\n",
        "from the training set.  Check if each of 3-grams (the 3 words appearing next\n",
        "to each other) appear in the training set. If so, what word occurs immediately\n",
        "following those three words?"
      ]
    },
    {
      "cell_type": "markdown",
      "metadata": {
        "id": "KFGssXjpcTvS",
        "colab_type": "text"
      },
      "source": [
        "The predictions for the above sences are the following:"
      ]
    },
    {
      "cell_type": "code",
      "metadata": {
        "id": "RO5d5-Qv80aH",
        "colab_type": "code",
        "colab": {
          "base_uri": "https://localhost:8080/",
          "height": 119
        },
        "outputId": "b3d3ba3e-b3de-4720-bd35-485cef86c155"
      },
      "source": [
        "# Write your code and answers here\n",
        "print(make_prediction_torch(pytorch_mlp, ['you', 'are', 'a']))\n",
        "print(make_prediction_torch(pytorch_mlp, ['few', 'companies', 'show']))\n",
        "print(make_prediction_torch(pytorch_mlp, ['there', 'are', 'no']))\n",
        "print(make_prediction_torch(pytorch_mlp, ['yesterday', 'i', 'was']))\n",
        "print(make_prediction_torch(pytorch_mlp, ['the', 'game', 'had']))\n",
        "print(make_prediction_torch(pytorch_mlp, ['yesterday', 'the', 'federal']))\n"
      ],
      "execution_count": 32,
      "outputs": [
        {
          "output_type": "stream",
          "text": [
            "good\n",
            ".\n",
            "other\n",
            "nt\n",
            "to\n",
            "people\n"
          ],
          "name": "stdout"
        }
      ]
    },
    {
      "cell_type": "markdown",
      "metadata": {
        "id": "vsciLt59dIfH",
        "colab_type": "text"
      },
      "source": [
        "The predictions look sound and reasonable "
      ]
    },
    {
      "cell_type": "markdown",
      "metadata": {
        "id": "vnlZper_80aP",
        "colab_type": "text"
      },
      "source": [
        "### Part (g) -- 1 points\n",
        "\n",
        "Report the test accuracy of your model"
      ]
    },
    {
      "cell_type": "code",
      "metadata": {
        "id": "X2lr6Qlx80aS",
        "colab_type": "code",
        "colab": {
          "base_uri": "https://localhost:8080/",
          "height": 34
        },
        "outputId": "812d397b-1032-4a9e-90bf-a82f4147df21"
      },
      "source": [
        "print(str(estimate_accuracy_torch(pytorch_mlp, test4grams)*100)+\"% is the test accuracy\")\n",
        "# Write your code here"
      ],
      "execution_count": 38,
      "outputs": [
        {
          "output_type": "stream",
          "text": [
            "33.54138398914518% is the test accuracy\n"
          ],
          "name": "stdout"
        }
      ]
    },
    {
      "cell_type": "markdown",
      "metadata": {
        "id": "aFA3GZ_e80aX",
        "colab_type": "text"
      },
      "source": [
        "## Question 3. Learning Word Embeddings\n",
        "\n",
        "In this section, we will build a slightly different model with a different\n",
        "architecture. In particular, we will first compute a lower-dimensional\n",
        "*representation* of the three words, before using a multi-layer perceptron.\n",
        "\n",
        "Our model will look like this:\n",
        "\n",
        "<img src=\"https://www.cs.toronto.edu/~lczhang/321/hw/p2_model2.png\" />\n",
        "\n",
        "This model has 3 layers instead of 2, but the first layer of the network\n",
        "is **not** fully-connected. Instead, we compute the representations of each\n",
        "of the three words **separately**. In addition, the first layer of the network\n",
        "will not use any biases. The reason for this will be clear in question 4.\n",
        "\n",
        "### Part (a) - 10 pts\n",
        "\n",
        "Complete the methods in `NumpyWordEmbModel`."
      ]
    },
    {
      "cell_type": "code",
      "metadata": {
        "id": "h53ujY-E80aZ",
        "colab_type": "code",
        "colab": {}
      },
      "source": [
        "class NumpyWordEmbModel(object):\n",
        "    def __init__(self, vocab_size=250, emb_size=100, num_hidden=100):\n",
        "        self.vocab_size = vocab_size\n",
        "        self.emb_size = emb_size\n",
        "        self.num_hidden = num_hidden\n",
        "        self.emb_weights = np.zeros([emb_size, vocab_size]) # no biases in this layer\n",
        "        self.weights1 = np.zeros([num_hidden, emb_size * 3])\n",
        "        self.bias1 = np.zeros([num_hidden])\n",
        "        self.weights2 = np.zeros([vocab_size, num_hidden])\n",
        "        self.bias2 = np.zeros([vocab_size])\n",
        "        self.cleanup()\n",
        "\n",
        "    def initializeParams(self):\n",
        "        \"\"\"\n",
        "        Randomly initialize the weights and biases of this two-layer MLP.\n",
        "        The randomization is necessary so that each weight is updated to\n",
        "        a different value.\n",
        "        \"\"\"\n",
        "        self.emb_weights = np.random.normal(0, 2/self.num_hidden, self.emb_weights.shape)\n",
        "        self.weights1 = np.random.normal(0, 2/(3*emb_size), self.weights1.shape)\n",
        "        self.bias1 = np.random.normal(0, 2/(3*emb_size), self.bias1.shape)\n",
        "        self.weights2 = np.random.normal(0, 2/self.num_hidden, self.weights2.shape)\n",
        "        self.bias2 = np.random.normal(0, 2/self.num_hidden, self.bias2.shape)\n",
        "\n",
        "    def forward(self, inputs):\n",
        "        \"\"\"\n",
        "        Compute the forward pass prediction for inputs.\n",
        "        Note that `inputs` will be a rank-3 numpy array with shape [N, 3, 250].\n",
        "\n",
        "        For numerical stability reasons, we **do not** apply the softmax\n",
        "        activation in the forward function. The loss function assumes that \n",
        "        we return the logits from this function.\n",
        "        \"\"\"\n",
        "        # TODO\n",
        "        self.layer1 = np.dot(self.emb_weights, inputs)\n",
        "        self.layer2 = np.dot(self.layer1, self.weights1) + self.bias1\n",
        "        self.h = np.maximum(0, layer2)\n",
        "        self.layer3 = np.dot(layer2, self.weights2) + self.bias2\n",
        "        return self.layer3\n",
        "\n",
        "        \n",
        "\n",
        "    def __call__(self, inputs):\n",
        "        return self.forward(inputs)\n",
        "\n",
        "    def backward(self, ts):\n",
        "        \"\"\"\n",
        "        Compute the backward pass, given the ground-truth, one-hot targets.\n",
        "        Note that `ts` needs to be a rank 2 numpy array with shape [N, 250].\n",
        "\n",
        "        Remember the multivariate chain rule: if a weight affects the loss\n",
        "        through different paths, then the error signal from all the paths\n",
        "        must be added together.\n",
        "        \"\"\"\n",
        "        # TODO\n",
        "        self.layer3_bar = (self.y - ts) / self.N\n",
        "        self.w2_bar = np.dot(self.layer3_bar.T, self.h)\n",
        "        self.b2_bar = np.dot(self.layer3_bar.T, np.ones(self.N))\n",
        "        self.h_bar = np.matmul(self.layer3_bar, self.weights2)\n",
        "        self.layer2_bar = self.h_bar * (self.z1 > 0) #Because of ReLU I believe\n",
        "        self.w1_bar = np.dot(self.layer2_bar.T, self.layer1_bar)\n",
        "        self.b1_bar = np.dot(self.layer2_bar.T, np.ones(self.N))\n",
        "\n",
        "        self.layer1_bar = self.layer2_bar * (self.layer1 > 0) #Because of ReLU I believe\n",
        "        self.embw_bar = np.dot(self.layer1_bar.T, self.ts)\n",
        "\n",
        "    def update(self, alpha):\n",
        "        \"\"\"\n",
        "        Compute the gradient descent update for the parameters.\n",
        "        \"\"\"\n",
        "        # TODO\n",
        "        self.emb_weights = self.emb_weights - alpha * self.embw_bar #No bias first level\n",
        "    \n",
        "        self.weights1 = self.weights1 - alpha * self.w1_bar\n",
        "        self.bias1    = self.bias1    - alpha * self.b1_bar\n",
        "        self.weights2 = self.weights2 - alpha * self.w2_bar\n",
        "        self.bias2    = self.bias2    - alpha * self.b2_bar\n",
        "\n",
        "    def cleanup(self):\n",
        "        \"\"\"\n",
        "        Erase the values of the variables that we use in our computation.\n",
        "        \"\"\"\n",
        "        # TODO\n",
        "        self.emb_weights = None\n",
        "        self.weights1 = None\n",
        "        self.bias1 = None\n",
        "        self.weights2 = None\n",
        "        self.bias2 = None\n",
        "        \n",
        "        self.layer1 = None\n",
        "        self.layer2 = None\n",
        "        self.h = None\n",
        "        self.layer3 = None\n",
        "        \n",
        "        self.layer3_bar = None\n",
        "        self.w2_bar = None\n",
        "        self.b2_bar = None\n",
        "        self.h_bar = None\n",
        "        self.layer2_bar = None\n",
        "        self.w1_bar = None\n",
        "        self.b1_bar = None\n",
        "        self.layer1_bar = None\n",
        "        self.embw_bar = None"
      ],
      "execution_count": 0,
      "outputs": []
    },
    {
      "cell_type": "markdown",
      "metadata": {
        "id": "XcVr019Q80af",
        "colab_type": "text"
      },
      "source": [
        "### Part (b) -- 1 pts\n",
        "\n",
        "One strategy that machine learning practitioners use to debug their code\n",
        "is to *first try to overfit their model to a small training set*. If the\n",
        "gradient computation is correct and the data is encoded properly, then your\n",
        "model should easily achieve 100% training accuracy on a small training set.\n",
        "\n",
        "Show that your model is implemented correctly by showing that your model\n",
        "can achieve an 100% training accuracy within a few hundred iterations, when\n",
        "using a small training set (e.g. one batch)."
      ]
    },
    {
      "cell_type": "code",
      "metadata": {
        "id": "XxHndXpR80ai",
        "colab_type": "code",
        "outputId": "f4810823-6472-463e-88d1-60776501efca",
        "colab": {
          "base_uri": "https://localhost:8080/",
          "height": 357
        }
      },
      "source": [
        "numpy_wordemb = NumpyWordEmbModel()\n",
        "run_gradient_descent(numpy_wordemb, train4grams[:64], batch_size=64)"
      ],
      "execution_count": 26,
      "outputs": [
        {
          "output_type": "error",
          "ename": "TypeError",
          "evalue": "ignored",
          "traceback": [
            "\u001b[0;31m---------------------------------------------------------------------------\u001b[0m",
            "\u001b[0;31mTypeError\u001b[0m                                 Traceback (most recent call last)",
            "\u001b[0;32m<ipython-input-26-cd378f9644f4>\u001b[0m in \u001b[0;36m<module>\u001b[0;34m()\u001b[0m\n\u001b[1;32m      1\u001b[0m \u001b[0mnumpy_wordemb\u001b[0m \u001b[0;34m=\u001b[0m \u001b[0mNumpyWordEmbModel\u001b[0m\u001b[0;34m(\u001b[0m\u001b[0;34m)\u001b[0m\u001b[0;34m\u001b[0m\u001b[0;34m\u001b[0m\u001b[0m\n\u001b[0;32m----> 2\u001b[0;31m \u001b[0mrun_gradient_descent\u001b[0m\u001b[0;34m(\u001b[0m\u001b[0mnumpy_wordemb\u001b[0m\u001b[0;34m,\u001b[0m \u001b[0mtrain4grams\u001b[0m\u001b[0;34m[\u001b[0m\u001b[0;34m:\u001b[0m\u001b[0;36m64\u001b[0m\u001b[0;34m]\u001b[0m\u001b[0;34m,\u001b[0m \u001b[0mbatch_size\u001b[0m\u001b[0;34m=\u001b[0m\u001b[0;36m64\u001b[0m\u001b[0;34m)\u001b[0m\u001b[0;34m\u001b[0m\u001b[0;34m\u001b[0m\u001b[0m\n\u001b[0m",
            "\u001b[0;32m<ipython-input-18-186313fe80e9>\u001b[0m in \u001b[0;36mrun_gradient_descent\u001b[0;34m(model, train_data, validation_data, batch_size, learning_rate, max_iters)\u001b[0m\n\u001b[1;32m     23\u001b[0m \u001b[0;34m\u001b[0m\u001b[0m\n\u001b[1;32m     24\u001b[0m             \u001b[0;31m# TODO: add your code here\u001b[0m\u001b[0;34m\u001b[0m\u001b[0;34m\u001b[0m\u001b[0;34m\u001b[0m\u001b[0m\n\u001b[0;32m---> 25\u001b[0;31m             \u001b[0my\u001b[0m \u001b[0;34m=\u001b[0m \u001b[0mmodel\u001b[0m\u001b[0;34m.\u001b[0m\u001b[0mforward\u001b[0m\u001b[0;34m(\u001b[0m\u001b[0mxs\u001b[0m\u001b[0;34m)\u001b[0m\u001b[0;34m\u001b[0m\u001b[0;34m\u001b[0m\u001b[0m\n\u001b[0m\u001b[1;32m     26\u001b[0m \u001b[0;34m\u001b[0m\u001b[0m\n\u001b[1;32m     27\u001b[0m             \u001b[0;31m# backward pass: compute error\u001b[0m\u001b[0;34m\u001b[0m\u001b[0;34m\u001b[0m\u001b[0;34m\u001b[0m\u001b[0m\n",
            "\u001b[0;32m<ipython-input-25-ac7890325eae>\u001b[0m in \u001b[0;36mforward\u001b[0;34m(self, inputs)\u001b[0m\n\u001b[1;32m     33\u001b[0m         \"\"\"\n\u001b[1;32m     34\u001b[0m         \u001b[0;31m# TODO\u001b[0m\u001b[0;34m\u001b[0m\u001b[0;34m\u001b[0m\u001b[0;34m\u001b[0m\u001b[0m\n\u001b[0;32m---> 35\u001b[0;31m         \u001b[0mself\u001b[0m\u001b[0;34m.\u001b[0m\u001b[0mlayer1\u001b[0m \u001b[0;34m=\u001b[0m \u001b[0mnp\u001b[0m\u001b[0;34m.\u001b[0m\u001b[0mdot\u001b[0m\u001b[0;34m(\u001b[0m\u001b[0mself\u001b[0m\u001b[0;34m.\u001b[0m\u001b[0memb_weights\u001b[0m\u001b[0;34m,\u001b[0m \u001b[0minputs\u001b[0m\u001b[0;34m)\u001b[0m\u001b[0;34m\u001b[0m\u001b[0;34m\u001b[0m\u001b[0m\n\u001b[0m\u001b[1;32m     36\u001b[0m         \u001b[0mself\u001b[0m\u001b[0;34m.\u001b[0m\u001b[0mlayer2\u001b[0m \u001b[0;34m=\u001b[0m \u001b[0mnp\u001b[0m\u001b[0;34m.\u001b[0m\u001b[0mdot\u001b[0m\u001b[0;34m(\u001b[0m\u001b[0mself\u001b[0m\u001b[0;34m.\u001b[0m\u001b[0mlayer1\u001b[0m\u001b[0;34m,\u001b[0m \u001b[0mself\u001b[0m\u001b[0;34m.\u001b[0m\u001b[0mweights1\u001b[0m\u001b[0;34m)\u001b[0m \u001b[0;34m+\u001b[0m \u001b[0mself\u001b[0m\u001b[0;34m.\u001b[0m\u001b[0mbias1\u001b[0m\u001b[0;34m\u001b[0m\u001b[0;34m\u001b[0m\u001b[0m\n\u001b[1;32m     37\u001b[0m         \u001b[0mself\u001b[0m\u001b[0;34m.\u001b[0m\u001b[0mh\u001b[0m \u001b[0;34m=\u001b[0m \u001b[0mnp\u001b[0m\u001b[0;34m.\u001b[0m\u001b[0mmaximum\u001b[0m\u001b[0;34m(\u001b[0m\u001b[0;36m0\u001b[0m\u001b[0;34m,\u001b[0m \u001b[0mlayer2\u001b[0m\u001b[0;34m)\u001b[0m\u001b[0;34m\u001b[0m\u001b[0;34m\u001b[0m\u001b[0m\n",
            "\u001b[0;32m<__array_function__ internals>\u001b[0m in \u001b[0;36mdot\u001b[0;34m(*args, **kwargs)\u001b[0m\n",
            "\u001b[0;31mTypeError\u001b[0m: unsupported operand type(s) for *: 'NoneType' and 'float'"
          ]
        }
      ]
    },
    {
      "cell_type": "markdown",
      "metadata": {
        "id": "ipYTE3il80aq",
        "colab_type": "text"
      },
      "source": [
        "### Part (c) -- 2 pts\n",
        "\n",
        "Train your model from part (a) to obtain a training accuracy of at least 25%."
      ]
    },
    {
      "cell_type": "code",
      "metadata": {
        "id": "GZ3NDj6o80au",
        "colab_type": "code",
        "colab": {}
      },
      "source": [
        "# Your code goes here"
      ],
      "execution_count": 0,
      "outputs": []
    },
    {
      "cell_type": "markdown",
      "metadata": {
        "id": "Vv2OV8vJ80a1",
        "colab_type": "text"
      },
      "source": [
        "### Part (d) -- 2 pts\n",
        "\n",
        "The PyTorch version of the model is implemented for you. Use \n",
        "`run_pytorch_gradient_descent` to train\n",
        "your PyTorch MLP model to obtain a training accuracy of at least 38%.\n",
        "Plot the learning curve using the `plot_learning_curve` function provided\n",
        "to you, and include your plot in your PDF submission.\n",
        "\n",
        "Make sure that you checkpoint frequently. We will be using ..."
      ]
    },
    {
      "cell_type": "code",
      "metadata": {
        "id": "M3Jp576580a4",
        "colab_type": "code",
        "colab": {}
      },
      "source": [
        "class PyTorchWordEmb(nn.Module):\n",
        "    def __init__(self, emb_size=100, num_hidden=300, vocab_size=250):\n",
        "        super(PyTorchWordEmb, self).__init__()\n",
        "        self.word_emb_layer = nn.Linear(vocab_size, emb_size, bias=False)\n",
        "        self.fc_layer1 = nn.Linear(emb_size * 3, num_hidden)\n",
        "        self.fc_layer2 = nn.Linear(num_hidden, 250)\n",
        "        self.num_hidden = num_hidden\n",
        "        self.emb_size = emb_size\n",
        "    def forward(self, inp):\n",
        "        embeddings = torch.relu(self.word_emb_layer(inp))\n",
        "        embeddings = embeddings.reshape([-1, self.emb_size * 3])\n",
        "        hidden = torch.relu(self.fc_layer1(embeddings))\n",
        "        return self.fc_layer2(hidden)\n",
        "\n",
        "# pytorch_wordemb= PyTorchWordEmb()\n",
        "\n",
        "# result = run_pytorch_gradient_descent(pytorch_wordemb,\n",
        "#                                       max_iters=20000,\n",
        "#                                       ...)\n",
        "\n",
        "# plot_learning_curve(*result)"
      ],
      "execution_count": 0,
      "outputs": []
    },
    {
      "cell_type": "markdown",
      "metadata": {
        "id": "qV9--WD180a-",
        "colab_type": "text"
      },
      "source": [
        "### Part (e) -- 2 pts\n",
        "\n",
        "Use the function `make_prediction` that you wrote earlier to  \n",
        "predict what the next word should be in each of the following sentences:\n",
        "\n",
        "- \"You are a\"\n",
        "- \"few companies show\"\n",
        "- \"There are no\"\n",
        "- \"yesterday i was\"\n",
        "- \"the game had\"\n",
        "- \"yesterday the federal\"\n",
        "\n",
        "How do these predictions compared to the previous model?\n",
        "\n",
        "Just like before, if all of your predictions are the same,\n",
        "train your model for more iterations, or change the hyperparameters in your\n",
        "model. You may need to do this even if your training accuracy is >=38%."
      ]
    },
    {
      "cell_type": "code",
      "metadata": {
        "id": "bPqZ3NkU80a_",
        "colab_type": "code",
        "colab": {}
      },
      "source": [
        "# Your code goes here"
      ],
      "execution_count": 0,
      "outputs": []
    },
    {
      "cell_type": "markdown",
      "metadata": {
        "id": "-uQD8w4m80bF",
        "colab_type": "text"
      },
      "source": [
        "### Part (f) -- 1 pts\n",
        "\n",
        "Report the test accuracy of your model"
      ]
    },
    {
      "cell_type": "code",
      "metadata": {
        "id": "5w_DVhyt80bH",
        "colab_type": "code",
        "colab": {}
      },
      "source": [
        "# Write your code here"
      ],
      "execution_count": 0,
      "outputs": []
    },
    {
      "cell_type": "markdown",
      "metadata": {
        "id": "bIGPS2ks80bN",
        "colab_type": "text"
      },
      "source": [
        "## Question 4. Visualizing Word Embeddings\n",
        "\n",
        "While training the `PyTorchMLP`, we trained the `word_emb_layer`, which takes a one-hot\n",
        "representation of a word in our vocabulary, and returns a low-dimensional vector\n",
        "representation of that word. In this question, we will explore these word embeddings.\n",
        "\n",
        "### Part (a) -- 2 pts\n",
        "\n",
        "The code below extracts the **weights** of the word embedding layer,\n",
        "and converts the PyTorch tensor into an numpy array.\n",
        "Explain why each *row* of `word_emb` contains the vector representing\n",
        "of a word. For example `word_emb[vocab_stoi[\"any\"],:]` contains the\n",
        "vector representation of the word \"any\"."
      ]
    },
    {
      "cell_type": "code",
      "metadata": {
        "id": "C39XDb5x80bQ",
        "colab_type": "code",
        "colab": {}
      },
      "source": [
        "word_emb_weights = list(pytorch_wordemb.word_emb_layer.parameters())[0]\n",
        "word_emb = word_emb_weights.detach().numpy().T\n",
        "\n",
        "# Write your explanation here"
      ],
      "execution_count": 0,
      "outputs": []
    },
    {
      "cell_type": "markdown",
      "metadata": {
        "id": "OzGu88in80bV",
        "colab_type": "text"
      },
      "source": [
        "### Part (b) -- 2 pts\n",
        "\n",
        "Once interesting thing about these word embeddings is that distances\n",
        "in these vector representations of words make some sense! To show this,\n",
        "we have provided code below that computes the cosine similarity of\n",
        "every pair of words in our vocabulary. This code should look familiar,\n",
        "since we have seen it in project 1."
      ]
    },
    {
      "cell_type": "code",
      "metadata": {
        "id": "UXVrAgkF80bX",
        "colab_type": "code",
        "colab": {}
      },
      "source": [
        "norms = np.linalg.norm(word_emb, axis=1)\n",
        "word_emb_norm = (word_emb.T / norms).T\n",
        "similarities = np.matmul(word_emb_norm, word_emb_norm.T)\n",
        "\n",
        "# Some example distances. The first one should be larger than the second\n",
        "print(similarities[vocab_stoi['any'], vocab_stoi['many']])\n",
        "print(similarities[vocab_stoi['any'], vocab_stoi['government']])"
      ],
      "execution_count": 0,
      "outputs": []
    },
    {
      "cell_type": "markdown",
      "metadata": {
        "id": "oQ8eliJC80bd",
        "colab_type": "text"
      },
      "source": [
        "Compute the 5 closest words to the following words:\n",
        "\n",
        "- \"four\"\n",
        "- \"go\"\n",
        "- \"what\"\n",
        "- \"should\"\n",
        "- \"school\"\n",
        "- \"your\"\n",
        "- \"yesterday\"\n",
        "- \"not\""
      ]
    },
    {
      "cell_type": "code",
      "metadata": {
        "id": "Un72bQvm80bf",
        "colab_type": "code",
        "colab": {}
      },
      "source": [
        "# Write your code here"
      ],
      "execution_count": 0,
      "outputs": []
    },
    {
      "cell_type": "markdown",
      "metadata": {
        "id": "OADcTbZK80bl",
        "colab_type": "text"
      },
      "source": [
        "### Part (c) -- 2 pts\n",
        "\n",
        "We can visualize the word embeddings by reducing the dimensionality of\n",
        "the word vectors to 2D. There are many dimensionality reduction techniques\n",
        "that we could use, and we will use an algorithm called t-SNE.\n",
        "(You donâ€™t need to know what this is for the assignment,\n",
        "but we may cover it later in the course.)\n",
        "Nearby points in this 2-D space are meant to correspond to nearby points\n",
        "in the original, high-dimensional space.\n",
        "\n",
        "The following code runs the t-SNE algorithm and plots the result.\n",
        "Look at the plot and find two clusters of related words.\n",
        "What do the words in each cluster have in common?\n",
        "\n",
        "Note that there is randomness in the initialization of the t-SNE \n",
        "algorithm. If you re-run this code, you may get a different image.\n",
        "Please make sure to submit your image in the PDF file for your TA to see."
      ]
    },
    {
      "cell_type": "code",
      "metadata": {
        "id": "n6A5h2WV80bm",
        "colab_type": "code",
        "colab": {}
      },
      "source": [
        "import sklearn.manifold\n",
        "tsne = sklearn.manifold.TSNE()\n",
        "Y = tsne.fit_transform(word_emb)\n",
        "\n",
        "plt.figure(figsize=(10, 10))\n",
        "plt.xlim(Y[:,0].min(), Y[:, 0].max())\n",
        "plt.ylim(Y[:,1].min(), Y[:, 1].max())\n",
        "for i, w in enumerate(vocab):\n",
        "    plt.text(Y[i, 0], Y[i, 1], w)\n",
        "plt.show()"
      ],
      "execution_count": 0,
      "outputs": []
    }
  ]
}